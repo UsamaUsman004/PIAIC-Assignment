{
 "cells": [
  {
   "cell_type": "markdown",
   "metadata": {},
   "source": [
    "# PIAIC ASSIGNMENT 1"
   ]
  },
  {
   "cell_type": "markdown",
   "metadata": {},
   "source": [
    "Name: Muhammad Osama\n",
    "Roll no: AIC009574\n",
    "Shift: 3:30-6:30 Saturday\n",
    "center: saylani HQ Bahadurabad\n",
    "Teacher: Sir Qasim"
   ]
  },
  {
   "cell_type": "code",
   "execution_count": 6,
   "metadata": {},
   "outputs": [
    {
     "name": "stdout",
     "output_type": "stream",
     "text": [
      "Enter the Radius of Circle:32\n",
      "Area =  3216.990877275948\n"
     ]
    }
   ],
   "source": [
    "# Calculate Area of a Circle\n",
    "import math\n",
    "radius = float(input(\"Enter the Radius of Circle:\"))\n",
    "print(\"Area = \",math.pi*(radius*radius))"
   ]
  },
  {
   "cell_type": "code",
   "execution_count": 7,
   "metadata": {},
   "outputs": [
    {
     "name": "stdout",
     "output_type": "stream",
     "text": [
      "Enter a number:2\n",
      "positive\n"
     ]
    }
   ],
   "source": [
    "##Check Number either positive, negative or zer0\n",
    "\n",
    "num = int(input(\"Enter a number:\"))\n",
    "\n",
    "if num ==0:\n",
    "    print(\"Zero\")\n",
    "    \n",
    "elif num > 0:\n",
    "    print(\"positive\")\n",
    "    \n",
    "else :\n",
    "    print(\"Negative\")\n",
    "    "
   ]
  },
  {
   "cell_type": "code",
   "execution_count": 9,
   "metadata": {},
   "outputs": [
    {
     "name": "stdout",
     "output_type": "stream",
     "text": [
      "Enter numerator3\n",
      "Enter Denominator2\n",
      "Not Divisible\n"
     ]
    }
   ],
   "source": [
    "##Divisibility Check of two numbers\n",
    "\n",
    "num1 = int(input(\"Enter numerator\"))\n",
    "num2 = int(input(\"Enter Denominator\"))\n",
    "if num1%num2 == 0:\n",
    "    print(\"Exactly Divisible\")\n",
    "\n",
    "else :\n",
    "    print(\"Not Divisible\")"
   ]
  },
  {
   "cell_type": "code",
   "execution_count": 12,
   "metadata": {},
   "outputs": [
    {
     "name": "stdout",
     "output_type": "stream",
     "text": [
      "Enter the begining date dd/mm/yy :19/07/1999\n",
      "Enter the ending date dd/mm/yy :23/06/2019\n",
      "7279 days\n"
     ]
    }
   ],
   "source": [
    "##Days Calculator\n",
    "from datetime import datetime\n",
    "date1 = input(\"Enter the begining date dd/mm/yy :\")\n",
    "date2 = input(\"Enter the ending date dd/mm/yy :\")\n",
    "\n",
    "d_format = \"%d/%m/%Y\"\n",
    "\n",
    "x= datetime.strptime(date1,d_format)\n",
    "y= datetime.strptime(date2,d_format)\n",
    "\n",
    "print((y-x).days,\"days\")"
   ]
  },
  {
   "cell_type": "code",
   "execution_count": 13,
   "metadata": {},
   "outputs": [
    {
     "name": "stdout",
     "output_type": "stream",
     "text": [
      "Enter the radius:2\n",
      "Volume =  33.510321638291124\n"
     ]
    }
   ],
   "source": [
    "##Calculate Volume of a sphere\n",
    "import math \n",
    "radius = float(input(\"Enter the radius:\"))\n",
    "print(\"Volume = \",(4/3)*math.pi*pow(radius,3))\n"
   ]
  },
  {
   "cell_type": "code",
   "execution_count": 15,
   "metadata": {},
   "outputs": [
    {
     "name": "stdout",
     "output_type": "stream",
     "text": [
      "Enter string:mani \n",
      "Enter how many times you wanna copy:2\n",
      "mani mani \n"
     ]
    }
   ],
   "source": [
    "##Copy string n times\n",
    "\n",
    "string = input(\"Enter string:\")\n",
    "times = int(input(\"Enter how many times you wanna copy:\"))\n",
    "\n",
    "print(string*times)"
   ]
  },
  {
   "cell_type": "code",
   "execution_count": 17,
   "metadata": {},
   "outputs": [
    {
     "name": "stdout",
     "output_type": "stream",
     "text": [
      "Enter a number:4\n",
      "Even\n"
     ]
    }
   ],
   "source": [
    "##Check if number is Even or Odd\n",
    "\n",
    "numb = int(input(\"Enter a number:\"))\n",
    "\n",
    "if numb%2 == 0 :\n",
    "    print(\"Even\")\n",
    "else:\n",
    "    print(\"Odd\")"
   ]
  },
  {
   "cell_type": "code",
   "execution_count": 19,
   "metadata": {},
   "outputs": [
    {
     "name": "stdout",
     "output_type": "stream",
     "text": [
      "Enter an aplhabet:a\n",
      "Vowel\n"
     ]
    }
   ],
   "source": [
    "##Vowel Tester\n",
    "alpha = input(\"Enter an aplhabet:\")\n",
    "\n",
    "if alpha == 'A' or alpha == 'E' or alpha == 'I' or alpha == 'O' or alpha == 'U' or alpha == 'a' or alpha == 'e' or alpha == 'i' or alpha == 'o' or alpha == 'u':\n",
    "    print(\"Vowel\")\n",
    "    \n",
    "else:\n",
    "    print(\"Consonant\")"
   ]
  },
  {
   "cell_type": "code",
   "execution_count": 2,
   "metadata": {},
   "outputs": [
    {
     "name": "stdout",
     "output_type": "stream",
     "text": [
      "Enter the Base :2\n",
      "Enter the Altitude:3\n",
      "Area of Triangle: 3.0\n"
     ]
    }
   ],
   "source": [
    "##Triangle area\n",
    "\n",
    "base = float(input(\"Enter the Base :\"))\n",
    "altitude=float(input(\"Enter the Altitude:\"))\n",
    "\n",
    "print(\"Area of Triangle:\",(1/2)*base*altitude)"
   ]
  },
  {
   "cell_type": "code",
   "execution_count": 9,
   "metadata": {},
   "outputs": [
    {
     "name": "stdout",
     "output_type": "stream",
     "text": [
      "Enter Amount:10000\n",
      "Enter time period:5\n",
      "Enter rate per year in %0.1\n",
      "interst = 50.0\n",
      "amount after interst= 10050.0\n"
     ]
    }
   ],
   "source": [
    "##Calculate Interest\n",
    "\n",
    "amount = float(input(\"Enter Amount:\"))\n",
    "time = float(input(\"Enter time period:\"))\n",
    "rate = float(input(\"Enter rate per year in %\"))\n",
    "\n",
    "interst = amount * time * (rate/100)\n",
    "print(\"interst =\",interst)\n",
    "print(\"amount after interst=\",interst+amount)"
   ]
  },
  {
   "cell_type": "code",
   "execution_count": 10,
   "metadata": {},
   "outputs": [
    {
     "name": "stdout",
     "output_type": "stream",
     "text": [
      "Enter X1:2\n",
      "Enter X2:4\n",
      "Enter Y1:4\n",
      "Enter Y2:4\n",
      "distance= 2.0\n"
     ]
    }
   ],
   "source": [
    "##Euclidean distance\n",
    "import math\n",
    "\n",
    "x1=float(input(\"Enter X1:\"))\n",
    "x2=float(input(\"Enter X2:\"))\n",
    "y1=float(input(\"Enter Y1:\"))\n",
    "y2=float(input(\"Enter Y2:\"))\n",
    "\n",
    "d= math.sqrt(pow(y1-x1,2)+pow(y2-x2,2))\n",
    "print(\"distance=\",d)"
   ]
  },
  {
   "cell_type": "code",
   "execution_count": 16,
   "metadata": {},
   "outputs": [
    {
     "name": "stdout",
     "output_type": "stream",
     "text": [
      "Enter the value in feet:5\n",
      "152.4 cm\n"
     ]
    }
   ],
   "source": [
    "##Feet to Centimeter Converter\n",
    "feet =float(input(\"Enter the value in feet:\"))\n",
    "print(feet*30.48 ,\"cm\")"
   ]
  },
  {
   "cell_type": "code",
   "execution_count": 24,
   "metadata": {},
   "outputs": [
    {
     "name": "stdout",
     "output_type": "stream",
     "text": [
      "Enter your height in cm:180\n",
      "Enter your weight in kg:75\n",
      "BMI= 23.148148148148145\n"
     ]
    }
   ],
   "source": [
    "##BMI Calculator\n",
    "height = float(input(\"Enter your height in cm:\"))\n",
    "weight = float(input(\"Enter your weight in kg:\"))\n",
    "h1= height/100\n",
    "print(\"BMI=\",weight/pow(h1,2))"
   ]
  },
  {
   "cell_type": "code",
   "execution_count": 40,
   "metadata": {},
   "outputs": [
    {
     "name": "stdout",
     "output_type": "stream",
     "text": [
      "Enter a number: 5\n",
      "15\n"
     ]
    }
   ],
   "source": [
    "##Sum of n Positive Integers\n",
    "i = int(input('Enter a number: '))\n",
    "for e in range(i):\n",
    "    i = i + e\n",
    "    e-=1\n",
    "print(i)"
   ]
  },
  {
   "cell_type": "code",
   "execution_count": 43,
   "metadata": {},
   "outputs": [
    {
     "name": "stdout",
     "output_type": "stream",
     "text": [
      "Enter: 23\n",
      "5\n"
     ]
    }
   ],
   "source": [
    "##Digits Sum of a Number\n",
    "st = input('Enter: ')\n",
    "a = []\n",
    "sum = 0\n",
    "for i in st:\n",
    "    a.append(i)\n",
    "    \n",
    "for j in range(0,len(a)):\n",
    "    sum = sum + int(a[j])\n",
    "    \n",
    "print(sum)"
   ]
  },
  {
   "cell_type": "code",
   "execution_count": 52,
   "metadata": {},
   "outputs": [
    {
     "name": "stdout",
     "output_type": "stream",
     "text": [
      "Enter decimal number: 5\n",
      "101\n"
     ]
    }
   ],
   "source": [
    "##Decimal to Binary Converter\n",
    "a = int(input('Enter decimal number: '))\n",
    "print(bin(a).replace(\"0b\",\"\"))"
   ]
  },
  {
   "cell_type": "code",
   "execution_count": 57,
   "metadata": {},
   "outputs": [
    {
     "name": "stdout",
     "output_type": "stream",
     "text": [
      "Enter: 101\n",
      "5\n"
     ]
    }
   ],
   "source": [
    "#Binary to Decimal Converter\n",
    "binary = input('Enter: ')\n",
    "print(int(binary,2))"
   ]
  },
  {
   "cell_type": "code",
   "execution_count": 61,
   "metadata": {},
   "outputs": [
    {
     "name": "stdout",
     "output_type": "stream",
     "text": [
      "Enter a string:Pakistan Zindabad\n",
      "Vowel = 6\n",
      "Consonant= 10\n",
      "Space= 1\n"
     ]
    }
   ],
   "source": [
    "##Vowel and Consonants Counter\n",
    "vowel=0\n",
    "consonant=0\n",
    "space=0\n",
    "string = input(\"Enter a string:\")\n",
    "for alpha in string:\n",
    "    if alpha == 'A' or alpha == 'E' or alpha == 'I' or alpha == 'O' or alpha == 'U' or alpha == 'a' or alpha == 'e' or alpha == 'i' or alpha == 'o' or alpha == 'u':\n",
    "        vowel+=1\n",
    "    elif alpha == ' ':\n",
    "        space+=1\n",
    "    else:\n",
    "        consonant+=1\n",
    "        \n",
    "print(\"Vowel =\",vowel)\n",
    "print(\"Consonant=\",consonant)\n",
    "print(\"Space=\",space)"
   ]
  },
  {
   "cell_type": "code",
   "execution_count": 64,
   "metadata": {},
   "outputs": [
    {
     "name": "stdout",
     "output_type": "stream",
     "text": [
      "Enter a string:WOW\n",
      "Palindrome\n"
     ]
    }
   ],
   "source": [
    "##Palindrome tester\n",
    "\n",
    "string = input(\"Enter a string:\")\n",
    "\n",
    "if string == string[::-1]:\n",
    "    print(\"Palindrome\")\n",
    "    \n",
    "else :\n",
    "    print(\"Not Palindrome\")"
   ]
  },
  {
   "cell_type": "code",
   "execution_count": 68,
   "metadata": {},
   "outputs": [
    {
     "name": "stdout",
     "output_type": "stream",
     "text": [
      "Enter a string:Pakistan @$ 123\n",
      "Letters 8\n",
      "Space= 2\n",
      "Special= 2\n",
      "Numbers= 3\n"
     ]
    }
   ],
   "source": [
    "##Count Alphabets, Numbers and Special Characters\n",
    "letters=0\n",
    "space=0\n",
    "number=0\n",
    "special=0\n",
    "string = input(\"Enter a string:\")\n",
    "for alpha in string:\n",
    "    if (ord(alpha)>=65 and ord(alpha)<=90) or (ord(alpha)>=97 and ord(alpha)<=122):\n",
    "        letters += 1\n",
    "    elif ord(alpha) == 32:\n",
    "        space += 1\n",
    "    elif ord(alpha)>=48 and ord(alpha)<=57:\n",
    "        number += 1\n",
    "    else:\n",
    "        special+=1\n",
    "        \n",
    "print(\"Letters\",letters)\n",
    "print(\"Space=\",space)\n",
    "print(\"Special=\",special)\n",
    "print(\"Numbers=\",number)"
   ]
  },
  {
   "cell_type": "code",
   "execution_count": 69,
   "metadata": {},
   "outputs": [
    {
     "name": "stdout",
     "output_type": "stream",
     "text": [
      "How many rows do you want? 4\n",
      "* \n",
      "* * \n",
      "* * * \n",
      "* * * * \n",
      "* * * \n",
      "* * \n",
      "* \n",
      "\n"
     ]
    }
   ],
   "source": [
    "# Write a Python program to construct the following pattern\n",
    "rows = int(input('How many rows do you want? '))\n",
    "for i in range (0, rows):\n",
    "    for j in range(0, i + 1):\n",
    "        print(\"*\", end=' ')\n",
    "    print(\"\\r\")\n",
    "for i in range (rows, 0, -1):\n",
    "    for j in range(0, i -1):\n",
    "        print(\"*\", end=' ')\n",
    "    print(\"\\r\")"
   ]
  },
  {
   "cell_type": "code",
   "execution_count": 70,
   "metadata": {},
   "outputs": [
    {
     "name": "stdout",
     "output_type": "stream",
     "text": [
      "How many rows do you want? 6\n",
      "\n",
      "1 \n",
      "1 2 \n",
      "1 2 3 \n",
      "1 2 3 4 \n",
      "1 2 3 4 5 \n",
      "1 2 3 4 \n",
      "1 2 3 \n",
      "1 2 \n",
      "1 \n",
      "\n",
      "\n"
     ]
    }
   ],
   "source": [
    "# Write a Python program to construct the following pattern\n",
    "rows = int(input('How many rows do you want? '))\n",
    "for i in range (0, rows):\n",
    "    for j in range(1, i + 1):\n",
    "        print(\"{}\".format(j), end=' ')\n",
    "    print(\"\\r\")\n",
    "for i in range (rows, 0, -1):\n",
    "    for j in range(1, i -1):\n",
    "        print(\"{}\".format(j), end=' ')\n",
    "    print(\"\\r\")"
   ]
  },
  {
   "cell_type": "code",
   "execution_count": 71,
   "metadata": {},
   "outputs": [
    {
     "name": "stdout",
     "output_type": "stream",
     "text": [
      "How many rows do you want: 10\n",
      "0\n",
      "11\n",
      "222\n",
      "3333\n",
      "44444\n",
      "555555\n",
      "6666666\n",
      "77777777\n",
      "888888888\n",
      "9999999999\n"
     ]
    }
   ],
   "source": [
    "# Write a Python program to construct the following pattern\n",
    "rows = int(input('How many rows do you want: '))\n",
    "for i in range(rows):\n",
    "    for j in range(i+1):\n",
    "        print(i, end = '')\n",
    "    print('\\r')"
   ]
  }
 ],
 "metadata": {
  "kernelspec": {
   "display_name": "Python 3",
   "language": "python",
   "name": "python3"
  },
  "language_info": {
   "codemirror_mode": {
    "name": "ipython",
    "version": 3
   },
   "file_extension": ".py",
   "mimetype": "text/x-python",
   "name": "python",
   "nbconvert_exporter": "python",
   "pygments_lexer": "ipython3",
   "version": "3.7.3"
  }
 },
 "nbformat": 4,
 "nbformat_minor": 2
}
